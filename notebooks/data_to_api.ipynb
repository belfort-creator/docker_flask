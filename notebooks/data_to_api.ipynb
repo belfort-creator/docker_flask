{
 "cells": [
  {
   "cell_type": "code",
   "execution_count": 74,
   "metadata": {},
   "outputs": [],
   "source": [
    "import requests\n",
    "import pandas as pd\n",
    "from pprint import pprint\n",
    "import json"
   ]
  },
  {
   "cell_type": "code",
   "execution_count": 75,
   "metadata": {},
   "outputs": [],
   "source": [
    "df = pd.read_csv()"
   ]
  },
  {
   "cell_type": "code",
   "execution_count": 76,
   "metadata": {},
   "outputs": [],
   "source": [
    "data = df.to_json(orient='records')"
   ]
  },
  {
   "cell_type": "code",
   "execution_count": 78,
   "metadata": {},
   "outputs": [],
   "source": [
    "headers = {\n",
    "    'Content-Type': 'application/json',\n",
    "}\n",
    "r = requests.post('http://localhost:5000/predict', headers=headers, data=data)"
   ]
  },
  {
   "cell_type": "code",
   "execution_count": 79,
   "metadata": {},
   "outputs": [
    {
     "data": {
      "text/plain": [
       "200"
      ]
     },
     "execution_count": 79,
     "metadata": {},
     "output_type": "execute_result"
    }
   ],
   "source": [
    "r.status_code"
   ]
  },
  {
   "cell_type": "code",
   "execution_count": 80,
   "metadata": {},
   "outputs": [
    {
     "data": {
      "text/plain": [
       "str"
      ]
     },
     "execution_count": 80,
     "metadata": {},
     "output_type": "execute_result"
    }
   ],
   "source": [
    "type(data)"
   ]
  },
  {
   "cell_type": "code",
   "execution_count": 81,
   "metadata": {},
   "outputs": [],
   "source": [
    "data = json.loads(r.text)"
   ]
  },
  {
   "cell_type": "code",
   "execution_count": 82,
   "metadata": {},
   "outputs": [
    {
     "data": {
      "text/plain": [
       "dict"
      ]
     },
     "execution_count": 82,
     "metadata": {},
     "output_type": "execute_result"
    }
   ],
   "source": [
    "type(data)"
   ]
  },
  {
   "cell_type": "code",
   "execution_count": 83,
   "metadata": {},
   "outputs": [
    {
     "data": {
      "text/plain": [
       "{'error': 'Object of type ndarray is not JSON serializable',\n",
       " 'trace': 'Traceback (most recent call last):\\n  File \"app.py\", line 24, in predict\\n    return jsonify({\"prediction\": list(preds)})\\n  File \"/usr/local/lib/python3.7/site-packages/flask/json/__init__.py\", line 370, in jsonify\\n    dumps(data, indent=indent, separators=separators) + \"\\\\n\",\\n  File \"/usr/local/lib/python3.7/site-packages/flask/json/__init__.py\", line 211, in dumps\\n    rv = _json.dumps(obj, **kwargs)\\n  File \"/usr/local/lib/python3.7/json/__init__.py\", line 238, in dumps\\n    **kw).encode(obj)\\n  File \"/usr/local/lib/python3.7/json/encoder.py\", line 199, in encode\\n    chunks = self.iterencode(o, _one_shot=True)\\n  File \"/usr/local/lib/python3.7/json/encoder.py\", line 257, in iterencode\\n    return _iterencode(o, 0)\\n  File \"/usr/local/lib/python3.7/site-packages/flask/json/__init__.py\", line 100, in default\\n    return _json.JSONEncoder.default(self, o)\\n  File \"/usr/local/lib/python3.7/json/encoder.py\", line 179, in default\\n    raise TypeError(f\\'Object of type {o.__class__.__name__} \\'\\nTypeError: Object of type ndarray is not JSON serializable\\n'}"
      ]
     },
     "execution_count": 83,
     "metadata": {},
     "output_type": "execute_result"
    }
   ],
   "source": [
    "data"
   ]
  },
  {
   "cell_type": "code",
   "execution_count": null,
   "metadata": {},
   "outputs": [],
   "source": []
  }
 ],
 "metadata": {
  "kernelspec": {
   "display_name": "Python 3",
   "language": "python",
   "name": "python3"
  },
  "language_info": {
   "codemirror_mode": {
    "name": "ipython",
    "version": 3
   },
   "file_extension": ".py",
   "mimetype": "text/x-python",
   "name": "python",
   "nbconvert_exporter": "python",
   "pygments_lexer": "ipython3",
   "version": "3.7.3"
  }
 },
 "nbformat": 4,
 "nbformat_minor": 2
}
